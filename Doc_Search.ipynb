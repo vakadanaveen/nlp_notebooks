{
 "cells": [
  {
   "cell_type": "code",
   "execution_count": 149,
   "metadata": {},
   "outputs": [],
   "source": [
    "import glob\n",
    "import os"
   ]
  },
  {
   "cell_type": "code",
   "execution_count": 150,
   "metadata": {},
   "outputs": [],
   "source": [
    "from nltk.tokenize import word_tokenize\n",
    "from collections import defaultdict \n",
    "from nltk.stem import PorterStemmer \n",
    "\n",
    "def process_text(s):\n",
    "    tkns=word_tokenize(s)\n",
    "    ps=PorterStemmer()\n",
    "    ans=[]\n",
    "    for x in tkns:\n",
    "        ans.append(ps.stem(x))\n",
    "    return ans"
   ]
  },
  {
   "cell_type": "code",
   "execution_count": 151,
   "metadata": {},
   "outputs": [],
   "source": [
    "def get_results(s,invindex):\n",
    "    tkns=process_text(s)\n",
    "    dl=defaultdict(int)\n",
    "    for tkn in tkns:\n",
    "        for x in invindex[tkn]:\n",
    "            dl[x]+=1\n",
    "    dl=sorted(list(zip(dl.keys(),dl.values())),key=lambda x: x[1],reverse=True)\n",
    "    return dl"
   ]
  },
  {
   "cell_type": "code",
   "execution_count": 152,
   "metadata": {},
   "outputs": [],
   "source": [
    "import ipywidgets as widgets\n",
    "output = widgets.Output()"
   ]
  },
  {
   "cell_type": "code",
   "execution_count": 153,
   "metadata": {},
   "outputs": [],
   "source": [
    "l=widgets.Label(value=\"Enter a path to a folder\")\n",
    "f=widgets.Text(value='',placeholder='Folder path')"
   ]
  },
  {
   "cell_type": "code",
   "execution_count": 154,
   "metadata": {},
   "outputs": [
    {
     "data": {
      "application/vnd.jupyter.widget-view+json": {
       "model_id": "6315459322964a4f9d96455e2743215a",
       "version_major": 2,
       "version_minor": 0
      },
      "text/plain": [
       "HBox(children=(Label(value='Enter a path to a folder'), Text(value='', placeholder='Folder path')))"
      ]
     },
     "metadata": {},
     "output_type": "display_data"
    }
   ],
   "source": [
    "widgets.HBox([l,f])"
   ]
  },
  {
   "cell_type": "code",
   "execution_count": 155,
   "metadata": {},
   "outputs": [],
   "source": [
    "base=f.value"
   ]
  },
  {
   "cell_type": "code",
   "execution_count": 156,
   "metadata": {},
   "outputs": [],
   "source": [
    "def build_index(base):\n",
    "    if len(base)==0:\n",
    "        base=r'C:\\Users\\vakad\\OneDrive\\Documents\\Textfiles'\n",
    "    os.chdir(base)\n",
    "    myFiles = glob.glob('*.txt')\n",
    "    vocab=[]\n",
    "    invindex=defaultdict(list)\n",
    "    for file in myFiles:\n",
    "        with open(file, encoding = 'utf-8') as f:\n",
    "            tkns=process_text(f.read())\n",
    "            for tkn in tkns: invindex[tkn].append(file)\n",
    "            vocab.extend(tkns)\n",
    "    for k in list(invindex.keys()):\n",
    "        invindex[k]=list(set(invindex[k]))\n",
    "    vocab=list(set(vocab))\n",
    "    return invindex"
   ]
  },
  {
   "cell_type": "code",
   "execution_count": 157,
   "metadata": {},
   "outputs": [],
   "source": [
    "l1 =widgets.Label(value=\"Enter a search query\")\n",
    "t1=widgets.Text(value='',placeholder='Your query')"
   ]
  },
  {
   "cell_type": "code",
   "execution_count": 158,
   "metadata": {},
   "outputs": [
    {
     "data": {
      "application/vnd.jupyter.widget-view+json": {
       "model_id": "8c389561bf30431897423fb1f9f8f622",
       "version_major": 2,
       "version_minor": 0
      },
      "text/plain": [
       "HBox(children=(Label(value='Enter a search query'), Text(value='', placeholder='Your query')))"
      ]
     },
     "metadata": {},
     "output_type": "display_data"
    }
   ],
   "source": [
    "widgets.HBox([l1,t1])"
   ]
  },
  {
   "cell_type": "code",
   "execution_count": 159,
   "metadata": {},
   "outputs": [
    {
     "data": {
      "application/vnd.jupyter.widget-view+json": {
       "model_id": "d26aed3da3aa4ff08a84b20b24c14d3d",
       "version_major": 2,
       "version_minor": 0
      },
      "text/plain": [
       "Button(description='Search', style=ButtonStyle(), tooltip='Click me')"
      ]
     },
     "metadata": {},
     "output_type": "display_data"
    },
    {
     "data": {
      "application/vnd.jupyter.widget-view+json": {
       "model_id": "2876f96153914f1e893750ca04133687",
       "version_major": 2,
       "version_minor": 0
      },
      "text/plain": [
       "Output()"
      ]
     },
     "metadata": {},
     "output_type": "display_data"
    }
   ],
   "source": [
    "button = widgets.Button(\n",
    "    description='Search',\n",
    "    disabled=False,\n",
    "    button_style='', # 'success', 'info', 'warning', 'danger' or ''\n",
    "    tooltip='Click me',\n",
    ")\n",
    "display(button,output)"
   ]
  },
  {
   "cell_type": "code",
   "execution_count": 160,
   "metadata": {},
   "outputs": [],
   "source": [
    "def fun(b):\n",
    "    with output:\n",
    "        output.clear_output()\n",
    "        invindex=build_index(base)\n",
    "        results=get_results(t1.value,invindex)\n",
    "        ls=[]\n",
    "        ls.append(widgets.Label(value=\"Your query results are: \"))\n",
    "        for x in results: ls.append(widgets.Label(value=x[0]))\n",
    "        display(widgets.VBox(ls))"
   ]
  },
  {
   "cell_type": "code",
   "execution_count": 161,
   "metadata": {},
   "outputs": [],
   "source": [
    "button.on_click(fun)"
   ]
  }
 ],
 "metadata": {
  "kernelspec": {
   "display_name": "Python 3",
   "language": "python",
   "name": "python3"
  },
  "language_info": {
   "codemirror_mode": {
    "name": "ipython",
    "version": 3
   },
   "file_extension": ".py",
   "mimetype": "text/x-python",
   "name": "python",
   "nbconvert_exporter": "python",
   "pygments_lexer": "ipython3",
   "version": "3.8.5"
  }
 },
 "nbformat": 4,
 "nbformat_minor": 4
}
